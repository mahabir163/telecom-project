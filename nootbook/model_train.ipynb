{
 "cells": [
  {
   "cell_type": "markdown",
   "id": "94cda772",
   "metadata": {},
   "source": [
    "**MODEL TRAIN**"
   ]
  },
  {
   "cell_type": "markdown",
   "id": "2a9408d0",
   "metadata": {},
   "source": [
    "* **Import Required Packages & Data Frame**"
   ]
  },
  {
   "cell_type": "markdown",
   "id": "a4de3bd6",
   "metadata": {},
   "source": [
    "* Import packages"
   ]
  },
  {
   "cell_type": "code",
   "execution_count": 35,
   "id": "4a1c58a4",
   "metadata": {},
   "outputs": [],
   "source": [
    "import numpy as np\n",
    "import pandas as pd\n",
    "import matplotlib.pyplot as plt\n",
    "import seaborn as sns\n",
    "\n",
    "from sklearn.pipeline import Pipeline\n",
    "from sklearn.impute import SimpleImputer\n",
    "from sklearn.preprocessing import LabelEncoder,OneHotEncoder,StandardScaler\n",
    "from sklearn.compose import ColumnTransformer\n",
    "from sklearn.model_selection import train_test_split\n",
    "\n",
    "from sklearn.linear_model import LogisticRegression\n",
    "from sklearn.tree import DecisionTreeClassifier\n",
    "from sklearn.svm import SVC\n",
    "from sklearn.neighbors import KNeighborsClassifier\n",
    "from sklearn.ensemble import RandomForestClassifier\n",
    "from sklearn.ensemble import AdaBoostClassifier\n",
    "from sklearn.ensemble import GradientBoostingClassifier\n",
    "\n",
    "from sklearn.metrics import accuracy_score\n",
    "\n",
    "import warnings \n",
    "warnings.filterwarnings(\"ignore\")"
   ]
  },
  {
   "cell_type": "markdown",
   "id": "d4d1d2af",
   "metadata": {},
   "source": [
    "* Import Data frame"
   ]
  },
  {
   "cell_type": "code",
   "execution_count": 36,
   "id": "07fcf3eb",
   "metadata": {},
   "outputs": [],
   "source": [
    "df = pd.read_csv(\"E:/users/USER/Desktop/DataAnalyticsAndgenAI/ML Project/Telecom/nootbook/WA_Fn-UseC_-Telco-Customer-Churn.csv\")"
   ]
  },
  {
   "cell_type": "code",
   "execution_count": 37,
   "id": "edaff4c2",
   "metadata": {},
   "outputs": [],
   "source": [
    "# 3. Clean numeric columns\n",
    "for col in ['tenure', 'MonthlyCharges', 'TotalCharges']:\n",
    "    df[col] = pd.to_numeric(df[col], errors='coerce')"
   ]
  },
  {
   "cell_type": "code",
   "execution_count": 38,
   "id": "ca12753a",
   "metadata": {},
   "outputs": [],
   "source": [
    "df.drop(\"customerID\",axis=1,inplace=True)"
   ]
  },
  {
   "cell_type": "markdown",
   "id": "adb7ba9d",
   "metadata": {},
   "source": [
    "**Define X(Input column) and Y(Target column)**"
   ]
  },
  {
   "cell_type": "code",
   "execution_count": 39,
   "id": "bb697de0",
   "metadata": {},
   "outputs": [],
   "source": [
    "x = df.drop(\"Churn\",axis=1)"
   ]
  },
  {
   "cell_type": "code",
   "execution_count": 40,
   "id": "4b9fcf9e",
   "metadata": {},
   "outputs": [],
   "source": [
    "y = df[\"Churn\"]"
   ]
  },
  {
   "cell_type": "markdown",
   "id": "e767f5bd",
   "metadata": {},
   "source": [
    "**Train Test Split**"
   ]
  },
  {
   "cell_type": "code",
   "execution_count": 41,
   "id": "00ab819b",
   "metadata": {},
   "outputs": [],
   "source": [
    "x_train,x_test,y_train,y_test = train_test_split(x,y,test_size=0.2)"
   ]
  },
  {
   "cell_type": "markdown",
   "id": "50594640",
   "metadata": {},
   "source": [
    "**Define numerical and categorical Column**"
   ]
  },
  {
   "cell_type": "code",
   "execution_count": 42,
   "id": "065523c2",
   "metadata": {},
   "outputs": [],
   "source": [
    "numeric_features = ['tenure', 'MonthlyCharges', 'TotalCharges']\n",
    "categorical_features = ['gender', 'SeniorCitizen', 'Partner', 'Dependents',\n",
    "                        'PhoneService', 'MultipleLines', 'InternetService',\n",
    "                        'OnlineSecurity', 'OnlineBackup', 'DeviceProtection',\n",
    "                        'TechSupport', 'StreamingTV', 'StreamingMovies',\n",
    "                        'Contract', 'PaperlessBilling', 'PaymentMethod']"
   ]
  },
  {
   "cell_type": "markdown",
   "id": "0a7b854f",
   "metadata": {},
   "source": [
    "**Transformation**"
   ]
  },
  {
   "cell_type": "code",
   "execution_count": 43,
   "id": "d3c46f8e",
   "metadata": {},
   "outputs": [],
   "source": [
    "num_pipeline = Pipeline(\n",
    "    steps=[\n",
    "        (\"imputer\",SimpleImputer(strategy=\"median\")),\n",
    "        (\"scaler\",StandardScaler())\n",
    "    ]\n",
    ")\n",
    "cat_pipeline = Pipeline(\n",
    "    steps=[\n",
    "        (\"imputer\",SimpleImputer(strategy=\"most_frequent\")),\n",
    "        (\"scaler\",OneHotEncoder(handle_unknown='ignore'))\n",
    "    ]\n",
    ")"
   ]
  },
  {
   "cell_type": "code",
   "execution_count": 44,
   "id": "4d727250",
   "metadata": {},
   "outputs": [],
   "source": [
    "preprocessor = ColumnTransformer([\n",
    "    (\"num_pipeline\",num_pipeline,numeric_features),\n",
    "    (\"cat_pipeline\",cat_pipeline,categorical_features)\n",
    "]\n",
    ")"
   ]
  },
  {
   "cell_type": "code",
   "execution_count": 46,
   "id": "45122fbb",
   "metadata": {},
   "outputs": [],
   "source": [
    "x_train_tra = preprocessor.fit_transform(x_train)\n",
    "x_test_tra = preprocessor.transform(x_test)\n"
   ]
  },
  {
   "cell_type": "markdown",
   "id": "f9f19ac7",
   "metadata": {},
   "source": [
    "**Model Train**"
   ]
  },
  {
   "cell_type": "code",
   "execution_count": 47,
   "id": "e2068798",
   "metadata": {},
   "outputs": [],
   "source": [
    "models = {\n",
    "    \"LogisticRegression\" : LogisticRegression(),\n",
    "    \"DecisionTreeClassifier\" : DecisionTreeClassifier(),\n",
    "    \"SVC\" : SVC(),\n",
    "    \"KNeighborsClassifier\" : KNeighborsClassifier(),\n",
    "    \"AdaBoostClassifier\" : AdaBoostClassifier(),\n",
    "    \"GradientBoostingClassifier\" : GradientBoostingClassifier(),\n",
    "    \"RandomForestClassifier\" : RandomForestClassifier()\n",
    "}"
   ]
  },
  {
   "cell_type": "code",
   "execution_count": 54,
   "id": "70e94e13",
   "metadata": {},
   "outputs": [],
   "source": [
    "def model_train(x_train,y_train,x_test,y_test):\n",
    "    accuracy_scores = []\n",
    "    best_model = []\n",
    "    for i in range(len(list(models))):\n",
    "        model = list(models.values())[i]\n",
    "        model.fit(x_train,y_train)\n",
    "        pred = model.predict(x_test)\n",
    "        acc = accuracy_score(y_pred=pred,y_true=y_test)\n",
    "        print(\"Model:\",list(models.values())[i])\n",
    "        print(\"accuracy_score: \",acc)\n",
    "        print(\"--------------------------\")\n",
    "    "
   ]
  },
  {
   "cell_type": "code",
   "execution_count": 55,
   "id": "114bd541",
   "metadata": {},
   "outputs": [
    {
     "name": "stdout",
     "output_type": "stream",
     "text": [
      "Model: LogisticRegression()\n",
      "accuracy_score:  0.7906316536550745\n",
      "--------------------------\n",
      "Model: DecisionTreeClassifier()\n",
      "accuracy_score:  0.7352732434350603\n",
      "--------------------------\n",
      "Model: SVC()\n",
      "accuracy_score:  0.7920511000709723\n",
      "--------------------------\n",
      "Model: KNeighborsClassifier()\n",
      "accuracy_score:  0.752306600425834\n",
      "--------------------------\n",
      "Model: AdaBoostClassifier()\n",
      "accuracy_score:  0.7927608232789212\n",
      "--------------------------\n",
      "Model: GradientBoostingClassifier()\n",
      "accuracy_score:  0.7913413768630234\n",
      "--------------------------\n",
      "Model: RandomForestClassifier()\n",
      "accuracy_score:  0.7821149751596878\n",
      "--------------------------\n"
     ]
    }
   ],
   "source": [
    "model_train(x_train_tra,y_train,x_test_tra,y_test)"
   ]
  },
  {
   "cell_type": "code",
   "execution_count": 60,
   "id": "8ca2ca27",
   "metadata": {},
   "outputs": [
    {
     "data": {
      "text/plain": [
       "0.7927608232789212"
      ]
     },
     "execution_count": 60,
     "metadata": {},
     "output_type": "execute_result"
    }
   ],
   "source": [
    "final_model = AdaBoostClassifier()\n",
    "final_model.fit(x_train_tra,y_train)\n",
    "pred = final_model.predict(x_test_tra)\n",
    "accuracy_score(y_test,pred)"
   ]
  },
  {
   "cell_type": "markdown",
   "id": "d68cec11",
   "metadata": {},
   "source": [
    "**Create dump file of preprocessor & model**"
   ]
  },
  {
   "cell_type": "code",
   "execution_count": 63,
   "id": "d8a824a2",
   "metadata": {},
   "outputs": [],
   "source": [
    "import dill\n",
    "import os"
   ]
  },
  {
   "cell_type": "code",
   "execution_count": 71,
   "id": "1bf5041f",
   "metadata": {},
   "outputs": [],
   "source": [
    "artifacts_dir = os.path.join(os.getcwd(), \"artifacts\")\n",
    "os.makedirs(artifacts_dir, exist_ok=True) \n",
    "\n",
    "\n",
    "trans_path = os.path.join(artifacts_dir, \"preprocessor.pkl\")\n",
    "with open(trans_path, \"wb\") as f:\n",
    "    dill.dump(preprocessor, f)"
   ]
  },
  {
   "cell_type": "code",
   "execution_count": 72,
   "id": "bb89f1d7",
   "metadata": {},
   "outputs": [],
   "source": [
    "model_dir = os.path.join(os.getcwd(), \"artifacts\")\n",
    "os.makedirs(model_dir, exist_ok=True) \n",
    "\n",
    "\n",
    "model_path = os.path.join(model_dir, \"model.pkl\")\n",
    "with open(model_path, \"wb\") as f:\n",
    "    dill.dump(final_model, f)"
   ]
  }
 ],
 "metadata": {
  "kernelspec": {
   "display_name": "venv",
   "language": "python",
   "name": "python3"
  },
  "language_info": {
   "codemirror_mode": {
    "name": "ipython",
    "version": 3
   },
   "file_extension": ".py",
   "mimetype": "text/x-python",
   "name": "python",
   "nbconvert_exporter": "python",
   "pygments_lexer": "ipython3",
   "version": "3.12.1"
  }
 },
 "nbformat": 4,
 "nbformat_minor": 5
}
